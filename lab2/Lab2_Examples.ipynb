{
 "cells": [
  {
   "cell_type": "markdown",
   "id": "765ede05",
   "metadata": {},
   "source": [
    "# <span style='color:blue'> LAB2: </span>\n",
    "# <span style='color:blue'> PYTORCH INTRODUCTION </span>"
   ]
  },
  {
   "cell_type": "markdown",
   "id": "2001cc17",
   "metadata": {},
   "source": [
    "# <span style='color:red'> Part 1: Python as Deep Learning Platform -----------------------------------------------------</span>"
   ]
  },
  {
   "cell_type": "markdown",
   "id": "cf890327",
   "metadata": {},
   "source": [
    "### 1.1 - Verify PyTorch Installation"
   ]
  },
  {
   "cell_type": "code",
   "execution_count": 6,
   "id": "b094209d",
   "metadata": {},
   "outputs": [],
   "source": [
    "# Import necessary packages\n",
    "\n",
    "import numpy as np\n",
    "import torch"
   ]
  },
  {
   "cell_type": "code",
   "execution_count": 7,
   "id": "1899d484",
   "metadata": {},
   "outputs": [
    {
     "name": "stdout",
     "output_type": "stream",
     "text": [
      "tensor([[0.9655, 0.5248, 0.7271],\n",
      "        [0.9753, 0.3352, 0.0915],\n",
      "        [0.8122, 0.6959, 0.1217],\n",
      "        [0.8023, 0.6602, 0.7486],\n",
      "        [0.1329, 0.6018, 0.3806]])\n"
     ]
    }
   ],
   "source": [
    "# Define a random torch tensor of shape (5, 3)\n",
    "\n",
    "x = torch.rand(5, 3)\n",
    "print(x)"
   ]
  },
  {
   "cell_type": "code",
   "execution_count": 8,
   "id": "65df02d3",
   "metadata": {},
   "outputs": [
    {
     "data": {
      "text/plain": [
       "False"
      ]
     },
     "execution_count": 8,
     "metadata": {},
     "output_type": "execute_result"
    }
   ],
   "source": [
    "# This lines ensures PyTorch can communicate with your GPU for hardware acceleration\n",
    "\n",
    "torch.cuda.is_available()"
   ]
  },
  {
   "cell_type": "markdown",
   "id": "08eb68cf",
   "metadata": {},
   "source": [
    "# <span style='color:red'> Part 2: Neural Network Workflow in PyTorch (Simple Linear Regression) ----------</span>"
   ]
  },
  {
   "cell_type": "markdown",
   "id": "045ebaa5",
   "metadata": {},
   "source": [
    "### 2.1 - Prepare Data"
   ]
  },
  {
   "cell_type": "code",
   "execution_count": 11,
   "id": "8598fbc8",
   "metadata": {},
   "outputs": [],
   "source": [
    "%matplotlib inline\n",
    "\n",
    "import matplotlib.pyplot as plt"
   ]
  },
  {
   "cell_type": "code",
   "execution_count": 12,
   "id": "502ab4d9",
   "metadata": {},
   "outputs": [],
   "source": [
    "# Generate training data for x and y\n",
    "\n",
    "x_train = np.arange(11, dtype = np.float32)\n",
    "x_train = x_train[:, np.newaxis] # [:, np.nexaxis] re-orient the x_train so that it's in vertical orientation\n",
    "\n",
    "y_train = (2 * x_train) + 1"
   ]
  },
  {
   "cell_type": "code",
   "execution_count": 13,
   "id": "49889902",
   "metadata": {},
   "outputs": [
    {
     "name": "stdout",
     "output_type": "stream",
     "text": [
      "[[ 0.]\n",
      " [ 1.]\n",
      " [ 2.]\n",
      " [ 3.]\n",
      " [ 4.]\n",
      " [ 5.]\n",
      " [ 6.]\n",
      " [ 7.]\n",
      " [ 8.]\n",
      " [ 9.]\n",
      " [10.]]\n"
     ]
    }
   ],
   "source": [
    "print(x_train)"
   ]
  },
  {
   "cell_type": "code",
   "execution_count": 14,
   "id": "9bd1c45d",
   "metadata": {},
   "outputs": [
    {
     "name": "stdout",
     "output_type": "stream",
     "text": [
      "[[ 1.]\n",
      " [ 3.]\n",
      " [ 5.]\n",
      " [ 7.]\n",
      " [ 9.]\n",
      " [11.]\n",
      " [13.]\n",
      " [15.]\n",
      " [17.]\n",
      " [19.]\n",
      " [21.]]\n"
     ]
    }
   ],
   "source": [
    "print(y_train)"
   ]
  },
  {
   "cell_type": "markdown",
   "id": "23562000",
   "metadata": {},
   "source": [
    "### 2.2 - Define Model"
   ]
  },
  {
   "cell_type": "code",
   "execution_count": 16,
   "id": "48999749",
   "metadata": {},
   "outputs": [],
   "source": [
    "# A neural network model in PyTorch is a class \n",
    "\n",
    "class linearRegression(torch.nn.Module):\n",
    "    \n",
    "    def __init__(self, input_dim, output_dim): # Initializes the model with a linear layer with input/output dimension\n",
    "        \n",
    "        super(linearRegression, self).__init__() # This line allows us to use attributes/methods from torch.nn.Module\n",
    "        \n",
    "        self.linear = torch.nn.Linear(input_dim, output_dim) # Define a single linear layer with input/output dimensions\n",
    "\n",
    "    def forward(self, x): # This function describes the information flow within the network from input -> output\n",
    "        \n",
    "        out = self.linear(x) # We only have a single layer so the network output = output of the linear layer \n",
    "        \n",
    "        return out"
   ]
  },
  {
   "cell_type": "markdown",
   "id": "60513711",
   "metadata": {},
   "source": [
    "### 2.3 - Select Hyperparameters"
   ]
  },
  {
   "cell_type": "code",
   "execution_count": 21,
   "id": "7df28b25",
   "metadata": {},
   "outputs": [],
   "source": [
    "# Initialize our neural network model with input and output dimensions\n",
    "model = linearRegression(input_dim = 1, output_dim = 1)\n",
    "\n",
    "# Define the learning rate and epoch (# of iterations)\n",
    "learning_rate = 0.01 \n",
    "epochs = 100\n",
    "\n",
    "# Define loss function and optimizer\n",
    "loss_func = torch.nn.MSELoss() \n",
    "optimizer = torch.optim.SGD(model.parameters(), lr = learning_rate)\n",
    "\n",
    "# Run this line if you have PyTorch GPU version\n",
    "if torch.cuda.is_available():\n",
    "    model.cuda()"
   ]
  },
  {
   "cell_type": "markdown",
   "id": "0c76eeb7",
   "metadata": {},
   "source": [
    "### 2.4 - Identify Tracked Values"
   ]
  },
  {
   "cell_type": "code",
   "execution_count": 23,
   "id": "c4be6f16",
   "metadata": {},
   "outputs": [],
   "source": [
    "# Define a list or numpy array placeholder to keep track of our training loss\n",
    "\n",
    "train_loss_list = []"
   ]
  },
  {
   "cell_type": "markdown",
   "id": "7c1403d8",
   "metadata": {},
   "source": [
    "### 2.5 - Train Model"
   ]
  },
  {
   "cell_type": "code",
   "execution_count": 30,
   "id": "4c12bb57",
   "metadata": {
    "scrolled": true
   },
   "outputs": [
    {
     "name": "stdout",
     "output_type": "stream",
     "text": [
      "epoch 0, loss 185.15679931640625\n",
      "epoch 1, loss 15.123822212219238\n",
      "epoch 2, loss 1.254536509513855\n",
      "epoch 3, loss 0.12302906811237335\n",
      "epoch 4, loss 0.030504511669278145\n",
      "epoch 5, loss 0.022729046642780304\n",
      "epoch 6, loss 0.021868782117962837\n",
      "epoch 7, loss 0.02157515659928322\n",
      "epoch 8, loss 0.02133016288280487\n",
      "epoch 9, loss 0.021091686561703682\n",
      "epoch 10, loss 0.02085610292851925\n",
      "epoch 11, loss 0.02062316983938217\n",
      "epoch 12, loss 0.020392848178744316\n",
      "epoch 13, loss 0.02016514725983143\n",
      "epoch 14, loss 0.019939981400966644\n",
      "epoch 15, loss 0.01971728354692459\n",
      "epoch 16, loss 0.01949717104434967\n",
      "epoch 17, loss 0.01927936263382435\n",
      "epoch 18, loss 0.019064143300056458\n",
      "epoch 19, loss 0.01885121688246727\n",
      "epoch 20, loss 0.01864071935415268\n",
      "epoch 21, loss 0.018432578071951866\n",
      "epoch 22, loss 0.018226679414510727\n",
      "epoch 23, loss 0.018023215234279633\n",
      "epoch 24, loss 0.017821934074163437\n",
      "epoch 25, loss 0.017622943967580795\n",
      "epoch 26, loss 0.017426148056983948\n",
      "epoch 27, loss 0.01723150908946991\n",
      "epoch 28, loss 0.017039112746715546\n",
      "epoch 29, loss 0.016848890110850334\n",
      "epoch 30, loss 0.016660666093230247\n",
      "epoch 31, loss 0.016474658623337746\n",
      "epoch 32, loss 0.01629067212343216\n",
      "epoch 33, loss 0.016108736395835876\n",
      "epoch 34, loss 0.01592889241874218\n",
      "epoch 35, loss 0.015751000493764877\n",
      "epoch 36, loss 0.015575120225548744\n",
      "epoch 37, loss 0.015401211567223072\n",
      "epoch 38, loss 0.015229210257530212\n",
      "epoch 39, loss 0.015059176832437515\n",
      "epoch 40, loss 0.01489102840423584\n",
      "epoch 41, loss 0.014724740758538246\n",
      "epoch 42, loss 0.014560285955667496\n",
      "epoch 43, loss 0.014397714287042618\n",
      "epoch 44, loss 0.014236942864954472\n",
      "epoch 45, loss 0.014077920466661453\n",
      "epoch 46, loss 0.013920694589614868\n",
      "epoch 47, loss 0.013765229843556881\n",
      "epoch 48, loss 0.013611603528261185\n",
      "epoch 49, loss 0.01345955953001976\n",
      "epoch 50, loss 0.013309224508702755\n",
      "epoch 51, loss 0.01316063478589058\n",
      "epoch 52, loss 0.013013687916100025\n",
      "epoch 53, loss 0.01286831870675087\n",
      "epoch 54, loss 0.012724664993584156\n",
      "epoch 55, loss 0.012582575902342796\n",
      "epoch 56, loss 0.012442096136510372\n",
      "epoch 57, loss 0.01230310183018446\n",
      "epoch 58, loss 0.012165706604719162\n",
      "epoch 59, loss 0.012029883451759815\n",
      "epoch 60, loss 0.011895518749952316\n",
      "epoch 61, loss 0.011762711219489574\n",
      "epoch 62, loss 0.011631354689598083\n",
      "epoch 63, loss 0.011501462198793888\n",
      "epoch 64, loss 0.011373021639883518\n",
      "epoch 65, loss 0.01124604418873787\n",
      "epoch 66, loss 0.011120430193841457\n",
      "epoch 67, loss 0.010996287688612938\n",
      "epoch 68, loss 0.010873474180698395\n",
      "epoch 69, loss 0.010752100497484207\n",
      "epoch 70, loss 0.010631994344294071\n",
      "epoch 71, loss 0.010513264685869217\n",
      "epoch 72, loss 0.010395877994596958\n",
      "epoch 73, loss 0.010279767215251923\n",
      "epoch 74, loss 0.010164967738091946\n",
      "epoch 75, loss 0.010051512159407139\n",
      "epoch 76, loss 0.009939239360392094\n",
      "epoch 77, loss 0.009828262962400913\n",
      "epoch 78, loss 0.009718507528305054\n",
      "epoch 79, loss 0.009609963744878769\n",
      "epoch 80, loss 0.00950268842279911\n",
      "epoch 81, loss 0.009396527893841267\n",
      "epoch 82, loss 0.009291592054069042\n",
      "epoch 83, loss 0.009187890216708183\n",
      "epoch 84, loss 0.009085249155759811\n",
      "epoch 85, loss 0.008983759209513664\n",
      "epoch 86, loss 0.00888346042484045\n",
      "epoch 87, loss 0.0087842782959342\n",
      "epoch 88, loss 0.008686188608407974\n",
      "epoch 89, loss 0.008589204400777817\n",
      "epoch 90, loss 0.008493258617818356\n",
      "epoch 91, loss 0.008398429490625858\n",
      "epoch 92, loss 0.008304611779749393\n",
      "epoch 93, loss 0.008211920037865639\n",
      "epoch 94, loss 0.008120200596749783\n",
      "epoch 95, loss 0.008029513992369175\n",
      "epoch 96, loss 0.007939864881336689\n",
      "epoch 97, loss 0.007851249538362026\n",
      "epoch 98, loss 0.007763540372252464\n",
      "epoch 99, loss 0.007676827721297741\n"
     ]
    }
   ],
   "source": [
    "# Convert our dataset (inputs and targets) into torch tensors\n",
    "\n",
    "if torch.cuda.is_available():\n",
    "    inputs = torch.from_numpy(x_train).cuda() # If using GPU version, transfer the dataset to GPU memory\n",
    "    targets = torch.from_numpy(y_train).cuda()\n",
    "else:\n",
    "    inputs = torch.from_numpy(x_train)\n",
    "    targets = torch.from_numpy(y_train)\n",
    "\n",
    "# TRAINING LOOP-------------------------------------------------------------------------\n",
    "\n",
    "for epoch in range(epochs): # For each epoch (i.e. single pass on the training dataset)\n",
    "\n",
    "    optimizer.zero_grad() # Empty the gradient buffer so each learning event per epoch is separate\n",
    "\n",
    "    outputs = model(inputs) # Forward pass the inputs through the network to produce outputs \n",
    "\n",
    "    loss = loss_func(outputs, targets) # Compute the loss via comparing the output with expected targets\n",
    "    \n",
    "    train_loss_list.append(loss.item()) # Save the loss value to train_loss_list we defined\n",
    "    \n",
    "    loss.backward() # Compute how much changes to be made to weights/biases\n",
    "\n",
    "    optimizer.step() # Update the weights/biases according to learning rate\n",
    "\n",
    "    print('epoch {}, loss {}'.format(epoch, loss.item()))"
   ]
  },
  {
   "cell_type": "markdown",
   "id": "4cd0258f",
   "metadata": {},
   "source": [
    "### 2.6 - Visualization and Evaluation"
   ]
  },
  {
   "cell_type": "code",
   "execution_count": 32,
   "id": "142f7a0c",
   "metadata": {},
   "outputs": [
    {
     "name": "stdout",
     "output_type": "stream",
     "text": [
      "[[ 0.8370136]\n",
      " [ 2.860485 ]\n",
      " [ 4.883957 ]\n",
      " [ 6.9074283]\n",
      " [ 8.9309   ]\n",
      " [10.954371 ]\n",
      " [12.977842 ]\n",
      " [15.001314 ]\n",
      " [17.024786 ]\n",
      " [19.048258 ]\n",
      " [21.07173  ]]\n",
      "a: [[2.0234716]] b: [0.8370136]\n"
     ]
    }
   ],
   "source": [
    "with torch.no_grad(): # Telling PyTorch we aren't passing inputs to the model for training purpose, which requires gradient\n",
    "    \n",
    "    if torch.cuda.is_available(): # If you are using GPU version\n",
    "        \n",
    "        # 1. Convert x_train (np.array) -> torch tensors with torch.from_numpy()\n",
    "        # 2. Transfer x_train to GPU using .cuda()\n",
    "        # 3. Feed forward x_train to model to obtain the output using model()\n",
    "        # 4. Since the model lives in GPU, we should bring back the model output to CPU with .cpu()\n",
    "        # 5. Finally convert the torch tensor to numpy with .numpy()\n",
    "        predicted = model(torch.from_numpy(x_train).cuda()).cpu().numpy() \n",
    "        \n",
    "    else:\n",
    "        \n",
    "        # With CPU version, steps 2,3,4 above is not needed\n",
    "        predicted = model(torch.from_numpy(x_train)).numpy()\n",
    "    \n",
    "    # Print the predicted outputs - i.e., y-values and weight and biases in the trained neural network\n",
    "    print(predicted) \n",
    "    print(\"a: \" + str(model.linear.weight.cpu().numpy()), \"b: \" + str(model.linear.bias.cpu().numpy()))"
   ]
  },
  {
   "cell_type": "code",
   "execution_count": 87,
   "id": "657c3809",
   "metadata": {},
   "outputs": [
    {
     "data": {
      "text/plain": [
       "Text(0, 0.5, 'y')"
      ]
     },
     "execution_count": 87,
     "metadata": {},
     "output_type": "execute_result"
    }
   ],
   "source": [
    "# Plot the predicted-y (blue line) vs expected targets (black dots)\n",
    "\n",
    "plt.figure(figsize = (10, 7))\n",
    "\n",
    "plt.plot(predicted, '--', linewidth = 3)\n",
    "plt.plot(x_train, y_train, 'o', color = 'black', markersize = 10)\n",
    "plt.xlabel('x', fontsize = 50)\n",
    "plt.ylabel('y', fontsize = 50)"
   ]
  },
  {
   "cell_type": "markdown",
   "id": "1bd1b6a6",
   "metadata": {},
   "source": [
    "# <span style='color:red'> Part 3: Python Concepts for PyTorch ---------------------------------------------------------</span>"
   ]
  },
  {
   "cell_type": "markdown",
   "id": "1820e25a",
   "metadata": {},
   "source": [
    "### 3.1 - Python Classes"
   ]
  },
  {
   "cell_type": "code",
   "execution_count": 89,
   "id": "51887a31",
   "metadata": {},
   "outputs": [],
   "source": [
    "class Pokemon():\n",
    "    def __init__(self, Name, Type, Health): # Define attributes for the Pokemon object\n",
    "        self.Name = Name\n",
    "        self.Type = Type \n",
    "        self.Health = Health\n",
    "        \n",
    "    # Define methods for the Pokemon object\n",
    "    \n",
    "    def whats_your_name(self): # Your method can directly use the attributes defined in __init__\n",
    "        print(\"My name is \" + self.Name + \"!\")\n",
    "\n",
    "    def attack(self):\n",
    "        print(\"Electric attack! Zap!!\")\n",
    "\n",
    "    def dodge(self):\n",
    "        print(\"Pikachu Dodge!\")\n",
    "\n",
    "    def evolve(self):\n",
    "        print(\"Evolving to Raichu!!\")"
   ]
  },
  {
   "cell_type": "code",
   "execution_count": 91,
   "id": "a9100501",
   "metadata": {},
   "outputs": [],
   "source": [
    "pk1 = Pokemon(Name = \"Pikachu\", Type = \"Electric\", Health = 70)"
   ]
  },
  {
   "cell_type": "code",
   "execution_count": 93,
   "id": "d6c7d6a5",
   "metadata": {},
   "outputs": [
    {
     "data": {
      "text/plain": [
       "'Pikachu'"
      ]
     },
     "execution_count": 93,
     "metadata": {},
     "output_type": "execute_result"
    }
   ],
   "source": [
    "pk1.Name"
   ]
  },
  {
   "cell_type": "code",
   "execution_count": 95,
   "id": "30892060",
   "metadata": {},
   "outputs": [
    {
     "name": "stdout",
     "output_type": "stream",
     "text": [
      "My name is Pikachu!\n"
     ]
    }
   ],
   "source": [
    "pk1.whats_your_name()"
   ]
  },
  {
   "cell_type": "code",
   "execution_count": 97,
   "id": "84c2e2d8",
   "metadata": {},
   "outputs": [
    {
     "name": "stdout",
     "output_type": "stream",
     "text": [
      "Electric attack! Zap!!\n"
     ]
    }
   ],
   "source": [
    "pk1.attack()"
   ]
  },
  {
   "cell_type": "markdown",
   "id": "d919403f",
   "metadata": {},
   "source": [
    "### 3.2 - PyTorch Tensors vs Numpy Arrays"
   ]
  },
  {
   "cell_type": "code",
   "execution_count": 100,
   "id": "5e5de4ce",
   "metadata": {},
   "outputs": [
    {
     "name": "stdout",
     "output_type": "stream",
     "text": [
      "[1 2 3 4] <class 'numpy.ndarray'>\n"
     ]
    }
   ],
   "source": [
    "# Defining a numpy array\n",
    "array1 = np.array([1,2,3,4]) \n",
    "print(array1, type(array1))"
   ]
  },
  {
   "cell_type": "code",
   "execution_count": 102,
   "id": "30219acc",
   "metadata": {},
   "outputs": [
    {
     "name": "stdout",
     "output_type": "stream",
     "text": [
      "tensor([1, 2, 3, 4]) <class 'torch.Tensor'>\n"
     ]
    }
   ],
   "source": [
    "# Defining a torch tensor\n",
    "tensor1 = torch.tensor([1,2,3,4])\n",
    "print(tensor1, type(tensor1))"
   ]
  },
  {
   "cell_type": "code",
   "execution_count": 104,
   "id": "1a25ec8a",
   "metadata": {},
   "outputs": [
    {
     "name": "stdout",
     "output_type": "stream",
     "text": [
      "tensor([1, 2, 3, 4], dtype=torch.int32) <class 'torch.Tensor'>\n"
     ]
    }
   ],
   "source": [
    "# Converting numpy array to torch tensor\n",
    "array1_torch = torch.from_numpy(array1)\n",
    "print(array1_torch, type(array1_torch))"
   ]
  },
  {
   "cell_type": "code",
   "execution_count": 106,
   "id": "6169a8dd",
   "metadata": {},
   "outputs": [
    {
     "name": "stdout",
     "output_type": "stream",
     "text": [
      "[1 2 3 4] <class 'numpy.ndarray'>\n"
     ]
    }
   ],
   "source": [
    "# Converting torch tensor to numpy array\n",
    "tensor1_numpy = tensor1.numpy()\n",
    "print(tensor1_numpy, type(tensor1_numpy))"
   ]
  },
  {
   "cell_type": "markdown",
   "id": "f6429c30",
   "metadata": {},
   "source": [
    "### 3.3 - Handling Torch Tensors"
   ]
  },
  {
   "cell_type": "code",
   "execution_count": 109,
   "id": "a931cbd4",
   "metadata": {},
   "outputs": [
    {
     "name": "stdout",
     "output_type": "stream",
     "text": [
      "cpu\n"
     ]
    }
   ],
   "source": [
    "# Transferring your torch tensor to CPU\n",
    "tensor1_cpu = tensor1.cpu()\n",
    "print(tensor1_cpu.device)"
   ]
  },
  {
   "cell_type": "code",
   "execution_count": 111,
   "id": "a71d086a",
   "metadata": {},
   "outputs": [
    {
     "ename": "AssertionError",
     "evalue": "Torch not compiled with CUDA enabled",
     "output_type": "error",
     "traceback": [
      "\u001b[1;31m---------------------------------------------------------------------------\u001b[0m",
      "\u001b[1;31mAssertionError\u001b[0m                            Traceback (most recent call last)",
      "Cell \u001b[1;32mIn[111], line 2\u001b[0m\n\u001b[0;32m      1\u001b[0m \u001b[38;5;66;03m# Transferring your torch tensor to GPU\u001b[39;00m\n\u001b[1;32m----> 2\u001b[0m tensor1_gpu \u001b[38;5;241m=\u001b[39m tensor1\u001b[38;5;241m.\u001b[39mcuda()\n\u001b[0;32m      3\u001b[0m \u001b[38;5;28mprint\u001b[39m(tensor1_gpu\u001b[38;5;241m.\u001b[39mdevice)\n",
      "File \u001b[1;32m~\\anaconda3\\Lib\\site-packages\\torch\\cuda\\__init__.py:310\u001b[0m, in \u001b[0;36m_lazy_init\u001b[1;34m()\u001b[0m\n\u001b[0;32m    305\u001b[0m     \u001b[38;5;28;01mraise\u001b[39;00m \u001b[38;5;167;01mRuntimeError\u001b[39;00m(\n\u001b[0;32m    306\u001b[0m         \u001b[38;5;124m\"\u001b[39m\u001b[38;5;124mCannot re-initialize CUDA in forked subprocess. To use CUDA with \u001b[39m\u001b[38;5;124m\"\u001b[39m\n\u001b[0;32m    307\u001b[0m         \u001b[38;5;124m\"\u001b[39m\u001b[38;5;124mmultiprocessing, you must use the \u001b[39m\u001b[38;5;124m'\u001b[39m\u001b[38;5;124mspawn\u001b[39m\u001b[38;5;124m'\u001b[39m\u001b[38;5;124m start method\u001b[39m\u001b[38;5;124m\"\u001b[39m\n\u001b[0;32m    308\u001b[0m     )\n\u001b[0;32m    309\u001b[0m \u001b[38;5;28;01mif\u001b[39;00m \u001b[38;5;129;01mnot\u001b[39;00m \u001b[38;5;28mhasattr\u001b[39m(torch\u001b[38;5;241m.\u001b[39m_C, \u001b[38;5;124m\"\u001b[39m\u001b[38;5;124m_cuda_getDeviceCount\u001b[39m\u001b[38;5;124m\"\u001b[39m):\n\u001b[1;32m--> 310\u001b[0m     \u001b[38;5;28;01mraise\u001b[39;00m \u001b[38;5;167;01mAssertionError\u001b[39;00m(\u001b[38;5;124m\"\u001b[39m\u001b[38;5;124mTorch not compiled with CUDA enabled\u001b[39m\u001b[38;5;124m\"\u001b[39m)\n\u001b[0;32m    311\u001b[0m \u001b[38;5;28;01mif\u001b[39;00m _cudart \u001b[38;5;129;01mis\u001b[39;00m \u001b[38;5;28;01mNone\u001b[39;00m:\n\u001b[0;32m    312\u001b[0m     \u001b[38;5;28;01mraise\u001b[39;00m \u001b[38;5;167;01mAssertionError\u001b[39;00m(\n\u001b[0;32m    313\u001b[0m         \u001b[38;5;124m\"\u001b[39m\u001b[38;5;124mlibcudart functions unavailable. It looks like you have a broken build?\u001b[39m\u001b[38;5;124m\"\u001b[39m\n\u001b[0;32m    314\u001b[0m     )\n",
      "\u001b[1;31mAssertionError\u001b[0m: Torch not compiled with CUDA enabled"
     ]
    }
   ],
   "source": [
    "# Transferring your torch tensor to GPU\n",
    "tensor1_gpu = tensor1.cuda()\n",
    "print(tensor1_gpu.device)"
   ]
  },
  {
   "cell_type": "code",
   "execution_count": null,
   "id": "79aa7242-a6d4-41bd-97c1-d5c40629aa88",
   "metadata": {},
   "outputs": [],
   "source": []
  },
  {
   "cell_type": "code",
   "execution_count": null,
   "id": "62c64371-372f-497f-92b3-07e9dc7d9f71",
   "metadata": {},
   "outputs": [],
   "source": []
  }
 ],
 "metadata": {
  "kernelspec": {
   "display_name": "Python 3 (ipykernel)",
   "language": "python",
   "name": "python3"
  },
  "language_info": {
   "codemirror_mode": {
    "name": "ipython",
    "version": 3
   },
   "file_extension": ".py",
   "mimetype": "text/x-python",
   "name": "python",
   "nbconvert_exporter": "python",
   "pygments_lexer": "ipython3",
   "version": "3.12.7"
  }
 },
 "nbformat": 4,
 "nbformat_minor": 5
}
